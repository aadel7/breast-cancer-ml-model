{
 "cells": [
  {
   "cell_type": "markdown",
   "metadata": {},
   "source": [
    "# AML Coursework assessment"
   ]
  },
  {
   "cell_type": "markdown",
   "metadata": {},
   "source": [
    "## Describing, visualising, and transforming data"
   ]
  },
  {
   "cell_type": "markdown",
   "metadata": {},
   "source": [
    "### Wisconsin Diagnostic Breast Cancer Dataset"
   ]
  },
  {
   "cell_type": "markdown",
   "metadata": {},
   "source": [
    "The Wisconsin Diagnostic Breast Cancer dataset describes the measurements on cells in suspicious lumps in a women's breast. This dataset, obtained from the University of Wisconsin Hospitals, includes 30 feature variables and 1 target variable. The features, or input attributes, are numeric, and the target variable, has two possible values: M for Malignant and B for benign.\n",
    "\n",
    "Each cell-nucleus include 10 actual features:\n",
    "\n",
    "- Radius (mean of distances from center to points on the perimeter)\n",
    "- Texture (standard deviation of gray-scale values)\n",
    "- Perimeter\n",
    "- Area\n",
    "- Smoothness (local variation in radius lengths)\n",
    "- Compactness (perimeter^2 / area - 1.0)\n",
    "- Concavity (severity of concave portions of the contour)\n",
    "- Concave points (number of concave portions of the contour)\n",
    "- Symmetry \n",
    "- Fractal dimension (\"coastline approximation\" - 1)\n",
    "\n",
    "Now, we will load the dataset so we can check the data in detail. To do so, we'll install the required libraries and packages."
   ]
  },
  {
   "cell_type": "code",
   "execution_count": null,
   "metadata": {},
   "outputs": [],
   "source": [
    "!pip3 install matplotlib pandas numpy"
   ]
  },
  {
   "cell_type": "code",
   "execution_count": null,
   "metadata": {},
   "outputs": [],
   "source": [
    "!pip3 install -U ucimlrepo"
   ]
  },
  {
   "cell_type": "code",
   "execution_count": null,
   "metadata": {},
   "outputs": [],
   "source": [
    "import matplotlib.pyplot as plt\n",
    "import pandas as pd\n",
    "import numpy as np\n",
    "from ucimlrepo import fetch_ucirepo \n",
    "  \n",
    "# fetch dataset \n",
    "breast_cancer_wisconsin_diagnostic = fetch_ucirepo(id=17) \n",
    "  \n",
    "# data (as pandas dataframes) \n",
    "X = breast_cancer_wisconsin_diagnostic.data.features \n",
    "y = breast_cancer_wisconsin_diagnostic.data.targets \n",
    "\n",
    "data_combined = pd.concat([X, y], axis=1)\n",
    "  \n",
    "# metadata \n",
    "#print(breast_cancer_wisconsin_diagnostic.metadata) \n",
    "  \n",
    "# variable information \n",
    "#print(breast_cancer_wisconsin_diagnostic.variables)\n",
    "\n"
   ]
  },
  {
   "cell_type": "markdown",
   "metadata": {},
   "source": [
    "### Checking the data"
   ]
  },
  {
   "cell_type": "markdown",
   "metadata": {},
   "source": [
    "We'll retrieve a data preview of the data so we can have a first look at it."
   ]
  },
  {
   "cell_type": "code",
   "execution_count": null,
   "metadata": {},
   "outputs": [],
   "source": [
    "# Print the first few rows of the data\n",
    "#print(\"\\nFirst few rows of X (features):\")\n",
    "#print(X.head())\n",
    "\n",
    "#print(\"\\nFirst few rows of y (targets):\")\n",
    "#print(y.head())\n",
    "\n",
    "print(\"\\nFirst few rows of Features and Target combined\")\n",
    "print(data_combined.head())"
   ]
  },
  {
   "cell_type": "markdown",
   "metadata": {},
   "source": [
    "### The dimensionality of the dataset"
   ]
  },
  {
   "cell_type": "markdown",
   "metadata": {},
   "source": [
    "We can see that we're able to access the repository from UCIML and the data is loaded. Now we need to understand the dimensionality of the dataset in terms of number of rows, columns (features and target variable)."
   ]
  },
  {
   "cell_type": "code",
   "execution_count": null,
   "metadata": {},
   "outputs": [],
   "source": [
    "# Print the shape of the data\n",
    "\n",
    "print(\"Shape of X (features):\", X.shape)\n",
    "print(\"Shape of y (targets):\", y.shape)\n"
   ]
  },
  {
   "cell_type": "markdown",
   "metadata": {},
   "source": [
    "### Statistical Summary"
   ]
  },
  {
   "cell_type": "markdown",
   "metadata": {},
   "source": [
    "Let's retrieve the statistical properties of each attribute in order to get some insights."
   ]
  },
  {
   "cell_type": "code",
   "execution_count": 32,
   "metadata": {},
   "outputs": [
    {
     "name": "stdout",
     "output_type": "stream",
     "text": [
      "       radius1  texture1  perimeter1     area1  smoothness1  compactness1  concavity1  \\\n",
      "count  569.000   569.000     569.000   569.000      569.000       569.000     569.000   \n",
      "mean    14.127    19.290      91.969   654.889        0.096         0.104       0.089   \n",
      "std      3.524     4.301      24.299   351.914        0.014         0.053       0.080   \n",
      "min      6.981     9.710      43.790   143.500        0.053         0.019       0.000   \n",
      "25%     11.700    16.170      75.170   420.300        0.086         0.065       0.030   \n",
      "50%     13.370    18.840      86.240   551.100        0.096         0.093       0.062   \n",
      "75%     15.780    21.800     104.100   782.700        0.105         0.130       0.131   \n",
      "max     28.110    39.280     188.500  2501.000        0.163         0.345       0.427   \n",
      "\n",
      "       concave_points1  symmetry1  fractal_dimension1  ...  radius3  texture3  perimeter3  \\\n",
      "count          569.000    569.000             569.000  ...  569.000   569.000     569.000   \n",
      "mean             0.049      0.181               0.063  ...   16.269    25.677     107.261   \n",
      "std              0.039      0.027               0.007  ...    4.833     6.146      33.603   \n",
      "min              0.000      0.106               0.050  ...    7.930    12.020      50.410   \n",
      "25%              0.020      0.162               0.058  ...   13.010    21.080      84.110   \n",
      "50%              0.034      0.179               0.062  ...   14.970    25.410      97.660   \n",
      "75%              0.074      0.196               0.066  ...   18.790    29.720     125.400   \n",
      "max              0.201      0.304               0.097  ...   36.040    49.540     251.200   \n",
      "\n",
      "          area3  smoothness3  compactness3  concavity3  concave_points3  symmetry3  \\\n",
      "count   569.000      569.000       569.000     569.000          569.000    569.000   \n",
      "mean    880.583        0.132         0.254       0.272            0.115      0.290   \n",
      "std     569.357        0.023         0.157       0.209            0.066      0.062   \n",
      "min     185.200        0.071         0.027       0.000            0.000      0.157   \n",
      "25%     515.300        0.117         0.147       0.115            0.065      0.250   \n",
      "50%     686.500        0.131         0.212       0.227            0.100      0.282   \n",
      "75%    1084.000        0.146         0.339       0.383            0.161      0.318   \n",
      "max    4254.000        0.223         1.058       1.252            0.291      0.664   \n",
      "\n",
      "       fractal_dimension3  \n",
      "count             569.000  \n",
      "mean                0.084  \n",
      "std                 0.018  \n",
      "min                 0.055  \n",
      "25%                 0.071  \n",
      "50%                 0.080  \n",
      "75%                 0.092  \n",
      "max                 0.207  \n",
      "\n",
      "[8 rows x 30 columns]\n"
     ]
    }
   ],
   "source": [
    "pd.set_option('display.width', 100)\n",
    "pd.set_option('display.precision', 3)\n",
    "\n",
    "descriptionX = X.describe()\n",
    "descriptionY = y.describe()\n",
    "descriptionDataCombined = data_combined.describe()\n",
    "\n",
    "#print(descriptionX)\n",
    "#print(descriptionY)\n",
    "\n",
    "print(descriptionDataCombined)"
   ]
  },
  {
   "cell_type": "markdown",
   "metadata": {},
   "source": [
    "### Class Distribution"
   ]
  },
  {
   "cell_type": "markdown",
   "metadata": {},
   "source": [
    "As this is a classification problem, we need to analyse the data in order to check how many observations do we have for each class. If they are highly imbalanced, then we'll need to take further actions in the data pre-processing."
   ]
  },
  {
   "cell_type": "code",
   "execution_count": 31,
   "metadata": {},
   "outputs": [
    {
     "name": "stdout",
     "output_type": "stream",
     "text": [
      "Diagnosis\n",
      "B    357\n",
      "M    212\n",
      "dtype: int64\n",
      "\n",
      "Proportion of class B: 0.63\n",
      "Proportion of class M: 0.37\n"
     ]
    }
   ],
   "source": [
    "class_counts = data_combined.groupby('Diagnosis').size()\n",
    "print(class_counts)\n",
    "\n",
    "total = class_counts.sum()\n",
    "proportion_B = class_counts['B'] / total\n",
    "proportion_M = class_counts['M'] / total\n",
    "\n",
    "print(f\"\\nProportion of class B: {proportion_B:.2f}\")\n",
    "print(f\"Proportion of class M: {proportion_M:.2f}\")"
   ]
  },
  {
   "cell_type": "markdown",
   "metadata": {},
   "source": [
    "We can see that 67% of the dataset instances are Benign and 37% are Malignant which represents an imbalance."
   ]
  }
 ],
 "metadata": {
  "kernelspec": {
   "display_name": "Python 3",
   "language": "python",
   "name": "python3"
  },
  "language_info": {
   "codemirror_mode": {
    "name": "ipython",
    "version": 3
   },
   "file_extension": ".py",
   "mimetype": "text/x-python",
   "name": "python",
   "nbconvert_exporter": "python",
   "pygments_lexer": "ipython3",
   "version": "3.12.3"
  }
 },
 "nbformat": 4,
 "nbformat_minor": 2
}
