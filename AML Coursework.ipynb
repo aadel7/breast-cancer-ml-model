{
 "cells": [
  {
   "cell_type": "markdown",
   "metadata": {},
   "source": [
    "# Breast Cancer Classification Model"
   ]
  },
  {
   "cell_type": "markdown",
   "metadata": {},
   "source": [
    "## Problem Definition"
   ]
  },
  {
   "cell_type": "markdown",
   "metadata": {},
   "source": [
    "The Breast Cancer is a universal major health issue which could be improved with early diagnosis which could potentially lead to a more effective treatment plan. \n",
    "\n",
    "The primary goal of this project is to develop a machine learning model that can accurately classify a breast tumor as either benign or malignant. This classification will be based on different features extracted from digitized images of a breast mass.\n",
    "\n",
    "Reference:\n",
    "\n",
    "*[1] Wolberg,William, Mangasarian,Olvi, Street,Nick, and Street,W.. (1995). Breast Cancer Wisconsin (Diagnostic). UCI Machine Learning Repository. [UCI Machine Learning Repository](https://doi.org/10.24432/C5DW2B)*\n"
   ]
  },
  {
   "cell_type": "markdown",
   "metadata": {},
   "source": [
    "## Dataset Exploration"
   ]
  },
  {
   "cell_type": "markdown",
   "metadata": {},
   "source": [
    "### Wisconsin Diagnostic Breast Cancer Dataset"
   ]
  },
  {
   "cell_type": "markdown",
   "metadata": {},
   "source": [
    "The Wisconsin Diagnostic Breast Cancer dataset describes the measurements on cells in suspicious lumps in a women's breast. This dataset, obtained from the University of Wisconsin Hospitals, includes 30 feature variables and 1 target variable. \n",
    "\n",
    "The features, or input attributes, are numeric, and a binary target variable: M for Malignant and B for benign.\n",
    "\n",
    "Each cell-nucleus include 10 actual features:\n",
    "\n",
    "- Radius (mean of distances from center to points on the perimeter)\n",
    "- Texture (standard deviation of gray-scale values)\n",
    "- Perimeter\n",
    "- Area\n",
    "- Smoothness (local variation in radius lengths)\n",
    "- Compactness (perimeter^2 / area - 1.0)\n",
    "- Concavity (severity of concave portions of the contour)\n",
    "- Concave points (number of concave portions of the contour)\n",
    "- Symmetry \n",
    "- Fractal dimension (\"coastline approximation\" - 1)\n",
    "\n",
    "Now, the dataset will be loaded to check the data in detail. To accomplish this, the required libraries and packages will be installed.\n",
    "\n",
    "A virtual environment will be instantiated and activated, which will help in isolating dependencies and avoiding conflicts."
   ]
  },
  {
   "cell_type": "code",
   "execution_count": null,
   "metadata": {},
   "outputs": [],
   "source": [
    "!python -m venv myenv\n",
    "!.\\myenv\\Scripts\\activate\n",
    "!code ."
   ]
  },
  {
   "cell_type": "markdown",
   "metadata": {},
   "source": [
    "The Jupyter Notebook Kernel will need to be switched to the newly created environment using the Jupyter Notebook interface, and then all the required libraries will be installed."
   ]
  },
  {
   "cell_type": "code",
   "execution_count": null,
   "metadata": {},
   "outputs": [],
   "source": [
    "!pip3 install ipykernel matplotlib pandas numpy seaborn scikit-learn tensorflow scikeras"
   ]
  },
  {
   "cell_type": "code",
   "execution_count": null,
   "metadata": {},
   "outputs": [],
   "source": [
    "!pip3 install -U ucimlrepo"
   ]
  },
  {
   "cell_type": "code",
   "execution_count": null,
   "metadata": {},
   "outputs": [],
   "source": [
    "import matplotlib.pyplot as plt\n",
    "import pandas as pd\n",
    "import numpy as np\n",
    "from ucimlrepo import fetch_ucirepo \n",
    "  \n",
    "# fetch dataset \n",
    "breast_cancer_wisconsin_diagnostic = fetch_ucirepo(id=17) \n",
    "  \n",
    "# data (as pandas dataframes) \n",
    "X = breast_cancer_wisconsin_diagnostic.data.features \n",
    "y = breast_cancer_wisconsin_diagnostic.data.targets \n",
    "\n",
    "data_combined = pd.concat([X, y], axis=1)"
   ]
  },
  {
   "cell_type": "markdown",
   "metadata": {},
   "source": [
    "A data preview will be retrieved to allow for an initial examination of the dataset."
   ]
  },
  {
   "cell_type": "code",
   "execution_count": null,
   "metadata": {},
   "outputs": [],
   "source": [
    "# Print the first few rows of the data\n",
    "print(\"\\nFirst few rows of Features and Target combined\")\n",
    "print(data_combined.head())"
   ]
  },
  {
   "cell_type": "markdown",
   "metadata": {},
   "source": [
    "### The dimensionality of the dataset"
   ]
  },
  {
   "cell_type": "markdown",
   "metadata": {},
   "source": [
    "It can be observed that access to the repository from UCIML has been successfully established and the data has been loaded. \n",
    "\n",
    "Next, the dimensionality of the dataset needs to be understood in terms of the number of rows and columns (features and target variable)."
   ]
  },
  {
   "cell_type": "code",
   "execution_count": null,
   "metadata": {},
   "outputs": [],
   "source": [
    "# Print the shape of the data\n",
    "\n",
    "print(\"Shape of X (features):\", X.shape)\n",
    "print(\"Shape of y (targets):\", y.shape)"
   ]
  },
  {
   "cell_type": "markdown",
   "metadata": {},
   "source": [
    "### Statistical Summary"
   ]
  },
  {
   "cell_type": "markdown",
   "metadata": {},
   "source": [
    "The statistical properties of each attribute will be retrieved to gain insights into the dataset."
   ]
  },
  {
   "cell_type": "code",
   "execution_count": null,
   "metadata": {},
   "outputs": [],
   "source": [
    "pd.set_option('display.width', 100)\n",
    "pd.set_option('display.precision', 3)\n",
    "\n",
    "descriptionDataCombined = data_combined.describe()\n",
    "\n",
    "print(descriptionDataCombined)"
   ]
  },
  {
   "cell_type": "markdown",
   "metadata": {},
   "source": [
    "### Class Distribution"
   ]
  },
  {
   "cell_type": "markdown",
   "metadata": {},
   "source": [
    "As this is a classification problem, the data will be analyzed to determine the number of observations for each class. If the classes are highly imbalanced, further actions will need to be taken during data pre-processing."
   ]
  },
  {
   "cell_type": "code",
   "execution_count": null,
   "metadata": {},
   "outputs": [],
   "source": [
    "class_counts = data_combined.groupby('Diagnosis').size()\n",
    "print(class_counts)\n",
    "\n",
    "total = class_counts.sum()\n",
    "proportion_B = class_counts['B'] / total\n",
    "proportion_M = class_counts['M'] / total\n",
    "\n",
    "print(f\"\\nProportion of class B: {proportion_B:.2f}\")\n",
    "print(f\"Proportion of class M: {proportion_M:.2f}\")"
   ]
  },
  {
   "cell_type": "markdown",
   "metadata": {},
   "source": [
    "### Features Correlation "
   ]
  },
  {
   "cell_type": "markdown",
   "metadata": {},
   "source": [
    "By calculating the correlation between the different variables, it will be possible to analyze if they are tightly coupled (highly correlated). This is important as it can affect the performance of the machine learning algorithms.\n",
    "\n",
    "The Pearson's Correlation Coefficient will be calculated, assuming a normal distribution in the attributes. Before doing so, the target variable needs to be converted to a numeric one."
   ]
  },
  {
   "cell_type": "code",
   "execution_count": null,
   "metadata": {},
   "outputs": [],
   "source": [
    "# Convert the Diagnosis column from string to numerical values.\n",
    "data_combined['Diagnosis'] = data_combined['Diagnosis'].map({'M': 1, 'B': 0})\n",
    "\n",
    "# Calculate the Pearson's Correlation Coefficient\n",
    "correlations = data_combined.corr(method='pearson')\n",
    "print(correlations)"
   ]
  },
  {
   "cell_type": "markdown",
   "metadata": {},
   "source": [
    "Due to the large size of the table, variables that are highly correlated (greater than 0.75) will be retrieved by sorting and printing them."
   ]
  },
  {
   "cell_type": "code",
   "execution_count": null,
   "metadata": {},
   "outputs": [],
   "source": [
    "# Unstack the correlation matrix\n",
    "correlation_pairs = correlations.unstack()\n",
    "\n",
    "# Sort the correlation pairs\n",
    "sorted_pairs = correlation_pairs.sort_values(kind=\"quicksort\", ascending=False)\n",
    "\n",
    "# Retrieve high correlations and exclude self-correlations, as they aren't relevant.\n",
    "high_correlations = sorted_pairs[(sorted_pairs != 1.0) & (sorted_pairs.abs() > 0.75)]\n",
    "\n",
    "print(high_correlations)"
   ]
  },
  {
   "cell_type": "markdown",
   "metadata": {},
   "source": [
    "A correlation matrix will be plotted to achieve a better understanding of the data correlation.\n",
    "\n",
    "References:\n",
    "\n",
    "*[2] A. Ashfaq, \"Plot correlation matrix using pandas,\" Stack Overflow, Apr. 8, 2015. [Online]. Available: [Stack Overflow](https://stackoverflow.com/questions/29432629/plot-correlation-matrix-using-pandas)*"
   ]
  },
  {
   "cell_type": "code",
   "execution_count": null,
   "metadata": {},
   "outputs": [],
   "source": [
    "# Plotting the Correlation Matrix\n",
    "\n",
    "plt.figure(figsize=(10, 8))\n",
    "plt.imshow(correlations, cmap='coolwarm', interpolation='nearest')\n",
    "plt.colorbar(label='Correlation')\n",
    "plt.title('Correlation Matrix')\n",
    "plt.xticks(range(len(correlations.columns)), correlations.columns, rotation=90)\n",
    "plt.yticks(range(len(correlations.index)), correlations.index)\n",
    "plt.show()"
   ]
  },
  {
   "cell_type": "markdown",
   "metadata": {},
   "source": [
    "The correlation matrix shows a highly correlated variables are the radius and perimeter. This makes sense due to its mathematical relationship, as the radius is directly proportional to the perimeter."
   ]
  },
  {
   "cell_type": "markdown",
   "metadata": {},
   "source": [
    "### Skew of Univariate Distributions"
   ]
  },
  {
   "cell_type": "markdown",
   "metadata": {},
   "source": [
    "Now, an analysis of the attributes will be carried out to identify if there is any attribute with a skew, in order to consider it during the data preparation phase."
   ]
  },
  {
   "cell_type": "code",
   "execution_count": null,
   "metadata": {},
   "outputs": [],
   "source": [
    "skew = data_combined.skew()\n",
    "\n",
    "sorted_skew = skew.sort_values(ascending=False)\n",
    "\n",
    "negative_skew = sorted_skew[sorted_skew < 0]\n",
    "positive_skew = sorted_skew[sorted_skew > 0]\n",
    "higher_skew = sorted_skew[sorted_skew > 1]\n",
    "\n",
    "print(\"\\nNegative Skew\\n\")\n",
    "print(negative_skew)\n",
    "\n",
    "print(\"\\nPositive Skew\\n\")\n",
    "print(positive_skew)\n",
    "\n",
    "print(\"\\nHigher Skew\\n\")\n",
    "print(higher_skew)"
   ]
  },
  {
   "cell_type": "markdown",
   "metadata": {},
   "source": [
    "The skew results show there is no negative skew as all attribute values are positive. Additionally, it can be observed that some features have a higher skew than the rest of the features, with values greater than 3. \n",
    "\n",
    "Histograms of each attribute will now be plotted to check their distribution.\n",
    "\n",
    "*[3] W3Schools. Pandas DataFrame skew() Method. Retrieved from [W3Schools](https://www.w3schools.com/python/pandas/ref_df_skew.asp)*"
   ]
  },
  {
   "cell_type": "code",
   "execution_count": null,
   "metadata": {},
   "outputs": [],
   "source": [
    "# Univariate Histograms\n",
    "data_combined.hist(figsize=[20, 20])\n",
    "plt.show()"
   ]
  },
  {
   "cell_type": "markdown",
   "metadata": {},
   "source": [
    "## Data Transformation"
   ]
  },
  {
   "cell_type": "markdown",
   "metadata": {},
   "source": [
    "As it is described in the dataset information, there are no missing values in features and the target so no major transformations are deemed necessary for the data, except for transforming the target column to a numeric format, as some models require a numeric target variable.\n",
    "\n",
    "In terms of data scaling, the data will be standardized. Models such as Logistic Regression, SVM, k-Nearest Neighbors, and Neural Networks utilize optimization algorithms that perform better when the data is standardized.\n",
    "\n",
    "Additionally, a feature selection technique will be implemented in the next steps, which also requires standardization to ensure that all features are treated equally.\n",
    "\n",
    "*[4] Scikit-learn developers. LabelEncoder — scikit-learn 1.5.0 documentation. Retrieved from [LabelEncoder](https://scikit-learn.org/stable/modules/generated/sklearn.preproc)*\n",
    "\n",
    "*[5] Scikit-learn developers. StandardScaler — scikit-learn 1.5.0 documentation. Retrieved from [LabelEncoder](https://scikit-learn.org/stable/modules/generated/sklearn.preprocessing.StandardScaler.html)*"
   ]
  },
  {
   "cell_type": "code",
   "execution_count": null,
   "metadata": {},
   "outputs": [],
   "source": [
    "from sklearn.preprocessing import LabelEncoder\n",
    "from sklearn.preprocessing import StandardScaler\n",
    "\n",
    "# Target variable transformation - from string to numeric\n",
    "label_encoder = LabelEncoder()\n",
    "y_numeric = label_encoder.fit_transform(y.squeeze())\n",
    "\n",
    "# Print the transformed target variable to check if we have transformed it correctly\n",
    "print(\"Transformed Target Variables (First 10 elements):\", y_numeric[:10])\n",
    "\n",
    "# Data standardization - We will standardize the features using StandardScaler\n",
    "scaler = StandardScaler()\n",
    "X_scaled = scaler.fit_transform(X)\n"
   ]
  },
  {
   "cell_type": "markdown",
   "metadata": {},
   "source": [
    "## Feature Engineering"
   ]
  },
  {
   "cell_type": "markdown",
   "metadata": {},
   "source": [
    "### Feature Selection"
   ]
  },
  {
   "cell_type": "markdown",
   "metadata": {},
   "source": [
    "As the data set includes several features related to the same mass area, a feature importance will be applied to understand which specific features are most important for prediction in improve the model interpreatibiltiy by simplifying it.\n",
    "\n",
    "In this case feature importance will be applied using the Ensemble method Random Forest Classifier and Train Test Split resampling method. Features will be filtered based on their score."
   ]
  },
  {
   "cell_type": "code",
   "execution_count": 21,
   "metadata": {},
   "outputs": [
    {
     "name": "stdout",
     "output_type": "stream",
     "text": [
      "               Feature  Importance\n",
      "7      concave_points1       0.142\n",
      "27     concave_points3       0.127\n",
      "23               area3       0.118\n",
      "6           concavity1       0.081\n",
      "20             radius3       0.078\n",
      "22          perimeter3       0.074\n",
      "2           perimeter1       0.060\n",
      "3                area1       0.054\n",
      "26          concavity3       0.041\n",
      "0              radius1       0.032\n",
      "13               area2       0.030\n",
      "21            texture3       0.019\n",
      "25        compactness3       0.018\n",
      "10             radius2       0.016\n",
      "28           symmetry3       0.013\n",
      "12          perimeter2       0.012\n",
      "24         smoothness3       0.012\n",
      "1             texture1       0.011\n",
      "5         compactness1       0.009\n",
      "19  fractal_dimension2       0.007\n",
      "29  fractal_dimension3       0.007\n",
      "4          smoothness1       0.006\n",
      "14         smoothness2       0.006\n",
      "16          concavity2       0.006\n",
      "15        compactness2       0.005\n",
      "18           symmetry2       0.004\n",
      "17     concave_points2       0.003\n",
      "8            symmetry1       0.003\n",
      "11            texture2       0.003\n",
      "9   fractal_dimension1       0.003\n"
     ]
    },
    {
     "data": {
      "image/png": "[encoded data removed]",
      "text/plain": [
       "<Figure size 1000x600 with 1 Axes>"
      ]
     },
     "metadata": {},
     "output_type": "display_data"
    },
    {
     "name": "stdout",
     "output_type": "stream",
     "text": [
      "Selected Important Features:\n",
      "7     concave_points1\n",
      "27    concave_points3\n",
      "23              area3\n",
      "6          concavity1\n",
      "20            radius3\n",
      "22         perimeter3\n",
      "2          perimeter1\n",
      "3               area1\n",
      "26         concavity3\n",
      "0             radius1\n",
      "13              area2\n",
      "21           texture3\n",
      "25       compactness3\n",
      "10            radius2\n",
      "28          symmetry3\n",
      "12         perimeter2\n",
      "24        smoothness3\n",
      "1            texture1\n",
      "Name: Feature, dtype: object\n"
     ]
    }
   ],
   "source": [
    "from sklearn.ensemble import RandomForestClassifier\n",
    "from sklearn.model_selection import train_test_split\n",
    "\n",
    "num_folds = 10\n",
    "seed = 7\n",
    "\n",
    "# Split data into training and testing sets\n",
    "X_train, X_test, y_train, y_test = train_test_split(X_scaled, y_numeric, test_size=0.3, random_state=42)\n",
    "\n",
    "importances = np.zeros(X_scaled.shape[1])\n",
    "\n",
    "# Fit a Random Forest model with the Training Data so that we can get the feature importances\n",
    "rf = RandomForestClassifier(random_state=42)\n",
    "rf.fit(X_train, y_train)\n",
    "\n",
    "# Get feature importances\n",
    "importances = rf.feature_importances_\n",
    "feature_names = X.columns\n",
    "\n",
    "# Create a DataFrame for better visualization\n",
    "feature_importance_df = pd.DataFrame({\n",
    "    'Feature': feature_names,\n",
    "    'Importance': importances\n",
    "}).sort_values(by='Importance', ascending=False)\n",
    "\n",
    "# Print feature importances\n",
    "print(feature_importance_df)\n",
    "\n",
    "# Plot feature importances\n",
    "plt.figure(figsize=(10, 6))\n",
    "plt.barh(feature_importance_df['Feature'], feature_importance_df['Importance'])\n",
    "plt.xlabel('Feature Importance')\n",
    "plt.ylabel('Feature')\n",
    "plt.title('Feature Importances from Random Forest')\n",
    "plt.gca().invert_yaxis()\n",
    "plt.show()\n",
    "\n",
    "# Select top features (those with importance > 0.01)\n",
    "top_features = feature_importance_df[feature_importance_df['Importance'] > 0.01]['Feature']\n",
    "top_features_indices = [list(feature_names).index(feature) for feature in top_features]  # Get indices of top features\n",
    "\n",
    "X_train_top = X_train[:, top_features_indices]\n",
    "X_test_top = X_test[:, top_features_indices]\n",
    "\n",
    "# Print the important features\n",
    "print(\"Selected Important Features:\")\n",
    "print(top_features)"
   ]
  },
  {
   "cell_type": "markdown",
   "metadata": {},
   "source": [
    "The feature importance plot shows that the most important features are related to the shape and size of the mass, such as area, concavity and permiter.\n",
    "\n",
    "Some measurements suggests that there is some redundancy in the the features dataset.\n",
    "\n",
    "Other features such as texture, compactness or smoothness provide less information for the classification problem."
   ]
  },
  {
   "cell_type": "markdown",
   "metadata": {},
   "source": [
    "### Dimensionality Reduction"
   ]
  },
  {
   "cell_type": "markdown",
   "metadata": {},
   "source": [
    "#### Principal Component Analysis (PCA)"
   ]
  },
  {
   "cell_type": "markdown",
   "metadata": {},
   "source": [
    "As a preprocessing step, and in order to exclude irrelevant or redundant features, dimensionality reduction will be carried out using the Principal Component Analysis (PCA) technique and Train Test Split. This will allow the capture of the maximum variance in the dataset with a fewer number of components.\n",
    "\n",
    "The feature importance will be also considered in this step.\n",
    "\n",
    "Reference:\n",
    "\n",
    "*[6] \"Principal Component Analysis with Python,\" GeeksforGeeks, 2024. [Online]. Available: [GeekforGeeks](https://www.geeksforgeeks.org/principal-component-analysis-with-python/)*"
   ]
  },
  {
   "cell_type": "code",
   "execution_count": 26,
   "metadata": {},
   "outputs": [
    {
     "name": "stdout",
     "output_type": "stream",
     "text": [
      "Shape of X_pca: (398, 5)\n",
      "Explained variance ratio of each principal component:\n",
      "Principal Component 1: 0.6081\n",
      "Principal Component 2: 0.1516\n",
      "Principal Component 3: 0.0853\n",
      "Principal Component 4: 0.0609\n",
      "Principal Component 5: 0.0312\n",
      "Total explained variance: 0.9371\n"
     ]
    }
   ],
   "source": [
    "from sklearn.decomposition import PCA\n",
    "\n",
    "# Apply PCA taking into account only the top features\n",
    "pca = PCA(n_components=5)\n",
    "X_train_pca = pca.fit_transform(X_train_top)\n",
    "X_test_pca = pca.transform(X_test_top)\n",
    "\n",
    "# Check the shape of the transformed data\n",
    "print(\"Shape of X_pca:\", X_train_pca.shape)\n",
    "\n",
    "# Print the explained variance ratio of each principal component\n",
    "print(\"Explained variance ratio of each principal component:\")\n",
    "for i, variance_ratio in enumerate(pca.explained_variance_ratio_):\n",
    "    print(f\"Principal Component {i+1}: {variance_ratio:.4f}\")\n",
    "\n",
    "# Print the total explained variance\n",
    "total_explained_variance = np.sum(pca.explained_variance_ratio_)\n",
    "print(f\"Total explained variance: {total_explained_variance:.4f}\")\n"
   ]
  },
  {
   "cell_type": "markdown",
   "metadata": {},
   "source": [
    "It can be observed that Principal Components 1 have significantly higher variance ratios compared to the rest, making them more important in capturing the variance of the dataset.\n",
    "\n",
    "The Logistic Regression model accuracy will be estimated using only the first 5 principal components and Train Test Split."
   ]
  },
  {
   "cell_type": "code",
   "execution_count": 27,
   "metadata": {},
   "outputs": [
    {
     "name": "stdout",
     "output_type": "stream",
     "text": [
      "Accuracy with the first 5 PCs: 0.9749\n"
     ]
    }
   ],
   "source": [
    "from sklearn.linear_model import LogisticRegression\n",
    "\n",
    "# Logistic Regression with the first 5 principal components\n",
    "model = LogisticRegression(solver='liblinear')\n",
    "model.fit(X_train_pca, y_train)\n",
    "\n",
    "# Evaluate the model using the score method\n",
    "accuracy_pca = model.score(X_train_pca, y_train)\n",
    "print(f\"Accuracy with the first 5 PCs: {accuracy_pca:.4f}\")"
   ]
  },
  {
   "cell_type": "markdown",
   "metadata": {},
   "source": [
    "The model's performance remains high with an accuracy of approximately 0.98 using only the first 5 principal components. This indicates that the additional principal components are not necessary for solving the classification task effectively."
   ]
  },
  {
   "cell_type": "markdown",
   "metadata": {},
   "source": [
    "## Model Estimation"
   ]
  },
  {
   "cell_type": "markdown",
   "metadata": {},
   "source": [
    "Since the transformed dataset with the selected components is already stored in the variable X_PCA, the resampling method K-Fold Cross-Validation will be performed to evaluate how well the different models perform with data that haven't been used to train them."
   ]
  },
  {
   "cell_type": "markdown",
   "metadata": {},
   "source": [
    "### Model Performance Estimation"
   ]
  },
  {
   "cell_type": "markdown",
   "metadata": {},
   "source": [
    "The goal is to compare and select the best model based on its performance estimation across multiple folds.\n",
    "\n",
    "The performance of the different machine learning algorithms will be estimated using K-Fold Cross-Validation:\n",
    "- Logistic Regression\n",
    "- Decision Tree Classifier\n",
    "- Random Forest Classifier\n",
    "- Support Vector Machine\n",
    "- k-Nearest Neighbors\n",
    "- Neural Network\n",
    "\n",
    "All of them are *Supervised Learning Models* since the data is labeled. Supervised learning is appropriate for classification tasks, which is the focus of this project. The aim is to train the models to accurately classify new data by learning patterns from the labeled training data.\n",
    "\n",
    "The models will learn based on the input features and the output label (benign or malignant). This training process will eventually enable the models to make accurate predictions on unseen data."
   ]
  },
  {
   "cell_type": "code",
   "execution_count": 28,
   "metadata": {},
   "outputs": [
    {
     "name": "stdout",
     "output_type": "stream",
     "text": [
      "Logistic Regression: 0.967436 (0.019502)\n",
      "Decission Tree Classifier: 0.932244 (0.043348)\n",
      "Random Tree Classifier: 0.954808 (0.031415)\n",
      "Support Vector Machine: 0.964872 (0.030066)\n",
      "k-Nearest Neighbors: 0.944872 (0.029135)\n"
     ]
    },
    {
     "data": {
      "image/png": "[encoded data removed]",
      "text/plain": [
       "<Figure size 1200x600 with 1 Axes>"
      ]
     },
     "metadata": {},
     "output_type": "display_data"
    }
   ],
   "source": [
    "from sklearn.linear_model import LogisticRegression\n",
    "from sklearn.model_selection import KFold\n",
    "from sklearn.model_selection import cross_val_score\n",
    "from sklearn.tree import DecisionTreeClassifier\n",
    "from sklearn.ensemble import RandomForestClassifier\n",
    "from sklearn.svm import SVC\n",
    "from sklearn.neighbors import KNeighborsClassifier\n",
    "from sklearn.pipeline import Pipeline\n",
    "\n",
    "num_folds = 10\n",
    "seed = 7\n",
    "\n",
    "# Standardize and PCA transformation in pipeline\n",
    "pipeline = Pipeline([\n",
    "    ('scaler', StandardScaler()),\n",
    "    ('pca', PCA(n_components=5)),\n",
    "])\n",
    "\n",
    "# prepare models\n",
    "models = []\n",
    "models.append(('Logistic Regression', LogisticRegression(solver='liblinear')))\n",
    "models.append(('Decission Tree Classifier', DecisionTreeClassifier()))\n",
    "models.append(('Random Tree Classifier', RandomForestClassifier()))\n",
    "models.append(('Support Vector Machine', SVC()))\n",
    "models.append(('k-Nearest Neighbors', KNeighborsClassifier()))\n",
    "\n",
    "# evaluate each model in turn\n",
    "results = []\n",
    "names = []\n",
    "scoring = 'accuracy'\n",
    "seed = 7 \n",
    "\n",
    "for name, model in models:\n",
    "   kfold = KFold(n_splits=10, shuffle=True, random_state=seed)\n",
    "   cv_results = cross_val_score(model, X_train_pca, y_train, cv=kfold, scoring=scoring)\n",
    "   results.append(cv_results)\n",
    "   names.append(name)\n",
    "   msg = \"%s: %f (%f)\" % (name, cv_results.mean(), cv_results.std())\n",
    "   print(msg)\n",
    "\n",
    "# Plot the results\n",
    "plt.figure(figsize=(12, 6))\n",
    "plt.boxplot(results, tick_labels=names)\n",
    "plt.title('Model Comparison')\n",
    "plt.xlabel('Model')\n",
    "plt.ylabel('Accuracy')\n",
    "plt.show()"
   ]
  },
  {
   "cell_type": "markdown",
   "metadata": {},
   "source": [
    "Although all models perform very well on the dataset, Logistic Regression and SVM models have demonstrated the best scores.\n",
    "\n",
    "Now, the performance of a Neural Network will be analyzed on the same dataset and with the same seed.\n",
    "The model will include several Dense layers which will use two different activation functions:\n",
    "- ReLU\n",
    "- Sigmoid\n",
    "\n",
    "*ReLU* will output the input directly if posistive, while *Sigmoid* squashes the input to a range between 0 and 1.\n",
    "\n",
    "The selected loss function is *Binary Cross-Entropy* as it is suitable for a Binary classification problem. It will quantify the error between the predicted and actual values.\n",
    "\n",
    "Reference:\n",
    "\n",
    "*[7] \"Keras Layers,\" Keras Documentation, 2024. [Online]. Available: [Keras Layers](https://keras.io/2.15/api/layers/)*\n",
    "\n",
    "*[8] Sharma, N. (2019, October 16). Towards Data Science. Retrieved from [Towards Data Science](https://towardsdatascience.com/understanding-binary-cross-entropy-log-loss-a-visual-explanation-a3ac6025181a)*\n"
   ]
  },
  {
   "cell_type": "code",
   "execution_count": 29,
   "metadata": {},
   "outputs": [
    {
     "name": "stdout",
     "output_type": "stream",
     "text": [
      "WARNING:tensorflow:5 out of the last 13 calls to <function TensorFlowTrainer.make_predict_function.<locals>.one_step_on_data_distributed at 0x0000022D9CC8E340> triggered tf.function retracing. Tracing is expensive and the excessive number of tracings could be due to (1) creating @tf.function repeatedly in a loop, (2) passing tensors with different shapes, (3) passing Python objects instead of tensors. For (1), please define your @tf.function outside of the loop. For (2), @tf.function has reduce_retracing=True option that can avoid unnecessary retracing. For (3), please refer to https://www.tensorflow.org/guide/function#controlling_retracing and https://www.tensorflow.org/api_docs/python/tf/function for  more details.\n",
      "WARNING:tensorflow:5 out of the last 12 calls to <function TensorFlowTrainer.make_predict_function.<locals>.one_step_on_data_distributed at 0x0000022D9CC8E340> triggered tf.function retracing. Tracing is expensive and the excessive number of tracings could be due to (1) creating @tf.function repeatedly in a loop, (2) passing tensors with different shapes, (3) passing Python objects instead of tensors. For (1), please define your @tf.function outside of the loop. For (2), @tf.function has reduce_retracing=True option that can avoid unnecessary retracing. For (3), please refer to https://www.tensorflow.org/guide/function#controlling_retracing and https://www.tensorflow.org/api_docs/python/tf/function for  more details.\n",
      "Neural Network Model 1: 0.949615 (0.027746)\n",
      "Neural Network Model 2: 0.964872 (0.025573)\n",
      "Neural Network Model 3: 0.972436 (0.017492)\n"
     ]
    },
    {
     "data": {
      "image/png": "[encoded data removed]",
      "text/plain": [
       "<Figure size 1200x600 with 1 Axes>"
      ]
     },
     "metadata": {},
     "output_type": "display_data"
    }
   ],
   "source": [
    "from tensorflow.keras.models import Sequential\n",
    "from tensorflow.keras.layers import Dense, Dropout\n",
    "from scikeras.wrappers import KerasClassifier\n",
    "from tensorflow.keras.regularizers import l2\n",
    "\n",
    "import warnings\n",
    "\n",
    "# Suppress all UserWarnings to improve readability\n",
    "warnings.filterwarnings('ignore', category=UserWarning)\n",
    "\n",
    "\n",
    "# Define a function to create the different Keras models\n",
    "def create_model_1():\n",
    "    model = Sequential()\n",
    "    model.add(Dense(20, input_dim=5, activation='relu'))  # input_dim should be 10\n",
    "    model.add(Dense(10, activation='relu'))\n",
    "    model.add(Dense(1, activation='sigmoid'))\n",
    "    model.compile(loss='binary_crossentropy', optimizer='adam', metrics=['accuracy'])\n",
    "    return model\n",
    "\n",
    "# Added dropout layers to prevent overfitting\n",
    "def create_model_2():\n",
    "    model = Sequential()\n",
    "    model.add(Dense(20, input_dim=5, activation='relu'))  # input_dim should be 10\n",
    "    model.add(Dropout(0.5))  # Dropout layer to prevent overfitting\n",
    "    model.add(Dense(10, activation='relu'))\n",
    "    model.add(Dropout(0.5))  # Dropout layer to prevent overfitting\n",
    "    model.add(Dense(1, activation='sigmoid'))\n",
    "    model.compile(loss='binary_crossentropy', optimizer='adam', metrics=['accuracy'])\n",
    "    return model\n",
    "\n",
    "# Added l2 regularization and dropout layers to prevent overfitting\n",
    "def create_model_3():\n",
    "    model = Sequential()\n",
    "    model.add(Dense(20, input_dim=5, activation='relu',kernel_regularizer=l2(0.01))) # Added l2 regularization\n",
    "    model.add(Dropout(0.5))  # Dropout layer to prevent overfitting\n",
    "    model.add(Dense(10, activation='relu',kernel_regularizer=l2(0.01))) # Added l2 regularization\n",
    "    model.add(Dropout(0.5))  # Dropout layer to prevent overfitting\n",
    "    model.add(Dense(1, activation='sigmoid'))\n",
    "    model.compile(loss='binary_crossentropy', optimizer='adam', metrics=['accuracy'])\n",
    "    return model\n",
    "\n",
    "neural_network_models = []\n",
    "neural_network_models.append(('Neural Network Model 1', KerasClassifier(build_fn=create_model_1, epochs=150, batch_size=10, verbose=0)))\n",
    "neural_network_models.append(('Neural Network Model 2', KerasClassifier(build_fn=create_model_2, epochs=150, batch_size=10, verbose=0)))\n",
    "neural_network_models.append(('Neural Network Model 3', KerasClassifier(build_fn=create_model_3, epochs=150, batch_size=10, verbose=0)))\n",
    "\n",
    "# evaluate each model in turn\n",
    "results = []\n",
    "names = []\n",
    "scoring = 'accuracy'\n",
    "seed = 7 \n",
    "\n",
    "for name, model in neural_network_models:\n",
    "   kfold = KFold(n_splits=10, shuffle=True, random_state=seed)\n",
    "   cv_results = cross_val_score(model, X_train_pca, y_train, cv=kfold, scoring=scoring)\n",
    "   results.append(cv_results)\n",
    "   names.append(name)\n",
    "   msg = \"%s: %f (%f)\" % (name, cv_results.mean(), cv_results.std())\n",
    "   print(msg)\n",
    "\n",
    "# Plot the results\n",
    "plt.figure(figsize=(12, 6))\n",
    "plt.boxplot(results, tick_labels=names)\n",
    "plt.title('Model Comparison')\n",
    "plt.xlabel('Model')\n",
    "plt.ylabel('Accuracy')\n",
    "plt.show()"
   ]
  },
  {
   "cell_type": "markdown",
   "metadata": {},
   "source": [
    "In order to prevent overfitting, a dropout layer has been added. This layer will randomly set some of the neurons to zero during the training phase, with a 50% chance for each neuron to be dropped, to achieve generalization in the model.\n",
    "\n",
    "Additionally, L2 regularization has been added to the dense layers to keep the weights small and reduce model complexity and overfitting.\n",
    "\n",
    "After implementing additional layers, dropout, and L2 regularization, the accuracy of the neural network model has improved. The accuracy of the neural network model is now comparable to the other models.\n",
    "\n",
    "The neural network model achieved an accuracy of approximately 0.98, which is similar to the accuracy achieved by the other models. This indicates that the neural network model is performing well on the breast cancer dataset.\n",
    "\n",
    "Some overfitting is observed in the last model, as it performs better than the previous two models. This conclusion is based on independent testing, which shows a slight reduction in performance. However, further investigation is not pursued as it can be attributed to random variations due to how the cross-validation splits the data.\n",
    "\n",
    "\n",
    "References:\n",
    "\n",
    "*[9] R. Vij, \"Combating Overfitting with Dropout Regularization,\" Towards Data Science, 27-Apr-2020. [Online]. Available: [Towards Data Science](https://towardsdatascience.com/combating-overfitting-with-dropout-regularization-f721e8712fbe.)*\n",
    "\n",
    "*[10] J. Brownlee, \"How to Reduce Overfitting in Deep Learning with Weight Regularization,\" Machine Learning Mastery, 25-Aug-2020. [Online]. Available: [Machine Learning Mastery](https://machinelearningmastery.com/how-to-reduce-overfitting-in-deep-learning-with-weight-regularization/.)*"
   ]
  },
  {
   "cell_type": "markdown",
   "metadata": {},
   "source": [
    "### Pipelining and Data Leakage"
   ]
  },
  {
   "cell_type": "markdown",
   "metadata": {},
   "source": [
    "Data leakage occurs when information from outside the training dataset is used to create the model. In order to avoid data leakages a pipeline is used to standardize the data and apply PCA before training the model. This pipelining has been used in previous steps as well.\n",
    "\n",
    "The pipeline is then evaluated using k-Fold Cross-Validation. For each fold, the data pipeline (including Standarization and PCA) is fitted on the training data. Once this is done, fitted transformations are applied to the test data within the same fold.\n",
    "\n",
    "The model training is then done on the transformed training data and the model evaluation on the transformed test data.\n",
    "\n",
    "The goal is to ensure that the test data is never seen during the training and it is only used during the model evaluation.\n",
    "\n",
    "Reference:\n",
    "\n",
    "*[7] \"Leakage (machine learning),\" Wikipedia, 13-May-2024. [Online]. Available: [Wikipedia](https://en.wikipedia.org/wiki/Leakage_(machine_learning).)*"
   ]
  },
  {
   "cell_type": "code",
   "execution_count": 30,
   "metadata": {},
   "outputs": [
    {
     "name": "stdout",
     "output_type": "stream",
     "text": [
      "Logistic Regression: 0.967436 (0.022479)\n",
      "Decision Tree Classifier: 0.864487 (0.067983)\n",
      "Random Forest Classifier: 0.917308 (0.051144)\n",
      "Support Vector Machine: 0.947372 (0.040997)\n",
      "k-Nearest Neighbors: 0.924808 (0.027154)\n",
      "Neural Network 1: 0.967308 (0.011617)\n",
      "Neural Network 2: 0.967372 (0.022459)\n",
      "Neural Network 3: 0.967436 (0.022479)\n"
     ]
    },
    {
     "data": {
      "image/png": "[encoded data removed]",
      "text/plain": [
       "<Figure size 2000x600 with 1 Axes>"
      ]
     },
     "metadata": {},
     "output_type": "display_data"
    },
    {
     "name": "stdout",
     "output_type": "stream",
     "text": [
      "\n",
      "Model Performance:\n",
      "                      Model  Mean Accuracy  Standard Deviation\n",
      "0       Logistic Regression          0.967               0.022\n",
      "1  Decision Tree Classifier          0.864               0.068\n",
      "2  Random Forest Classifier          0.917               0.051\n",
      "3    Support Vector Machine          0.947               0.041\n",
      "4       k-Nearest Neighbors          0.925               0.027\n",
      "5          Neural Network 1          0.967               0.012\n",
      "6          Neural Network 2          0.967               0.022\n",
      "7          Neural Network 3          0.967               0.022\n"
     ]
    }
   ],
   "source": [
    "import matplotlib.pyplot as plt\n",
    "import pandas as pd\n",
    "from sklearn.linear_model import LogisticRegression\n",
    "from sklearn.model_selection import KFold, cross_val_score\n",
    "from sklearn.tree import DecisionTreeClassifier\n",
    "from sklearn.ensemble import RandomForestClassifier\n",
    "from sklearn.svm import SVC\n",
    "from sklearn.neighbors import KNeighborsClassifier\n",
    "from sklearn.pipeline import Pipeline\n",
    "from sklearn.preprocessing import StandardScaler\n",
    "from sklearn.decomposition import PCA\n",
    "import tensorflow as tf\n",
    "from scikeras.wrappers import KerasClassifier\n",
    "from tensorflow.keras.models import Sequential\n",
    "from tensorflow.keras.layers import Dense, Dropout\n",
    "from tensorflow.keras.regularizers import l2\n",
    "import warnings\n",
    "\n",
    "# Suppress all UserWarnings to improve readability\n",
    "warnings.filterwarnings('ignore', category=UserWarning)\n",
    "\n",
    "# Define a function to create the different Keras models\n",
    "def create_model_1():\n",
    "    model = Sequential()\n",
    "    model.add(Dense(20, input_dim=5, activation='relu'))  # input_dim should be 10\n",
    "    model.add(Dense(10, activation='relu'))\n",
    "    model.add(Dense(1, activation='sigmoid'))\n",
    "    model.compile(loss='binary_crossentropy', optimizer='adam', metrics=['accuracy'])\n",
    "    return model\n",
    "\n",
    "# Added dropout layers to prevent overfitting\n",
    "def create_model_2():\n",
    "    model = Sequential()\n",
    "    model.add(Dense(20, input_dim=5, activation='relu'))  # input_dim should be 10\n",
    "    model.add(Dropout(0.5))  # Dropout layer to prevent overfitting\n",
    "    model.add(Dense(10, activation='relu'))\n",
    "    model.add(Dropout(0.5))  # Dropout layer to prevent overfitting\n",
    "    model.add(Dense(1, activation='sigmoid'))\n",
    "    model.compile(loss='binary_crossentropy', optimizer='adam', metrics=['accuracy'])\n",
    "    return model\n",
    "\n",
    "# Added l2 regularization and dropout layers to prevent overfitting\n",
    "def create_model_3():\n",
    "    model = Sequential()\n",
    "    model.add(Dense(20, input_dim=5, activation='relu',kernel_regularizer=l2(0.01))) # Added l2 regularization\n",
    "    model.add(Dropout(0.5))  # Dropout layer to prevent overfitting\n",
    "    model.add(Dense(10, activation='relu',kernel_regularizer=l2(0.01))) # Added l2 regularization\n",
    "    model.add(Dropout(0.5))  # Dropout layer to prevent overfitting\n",
    "    model.add(Dense(1, activation='sigmoid'))\n",
    "    model.compile(loss='binary_crossentropy', optimizer='adam', metrics=['accuracy'])\n",
    "    return model\n",
    "\n",
    "# Number of folds and random seed\n",
    "num_folds = 10\n",
    "seed = 7\n",
    "\n",
    "# Define the k-fold cross-validator\n",
    "kfold = KFold(n_splits=num_folds, random_state=seed, shuffle=True)\n",
    "\n",
    "# Prepare models within pipelines to avoid data leakage\n",
    "models = []\n",
    "models.append(('Logistic Regression', Pipeline([\n",
    "    ('scaler', StandardScaler()),\n",
    "    ('pca', PCA(n_components=5)), \n",
    "    ('classifier', LogisticRegression(solver='liblinear'))\n",
    "])))\n",
    "models.append(('Decision Tree Classifier', Pipeline([\n",
    "    ('scaler', StandardScaler()),\n",
    "    ('pca', PCA(n_components=5)), \n",
    "    ('classifier', DecisionTreeClassifier())\n",
    "])))\n",
    "models.append(('Random Forest Classifier', Pipeline([\n",
    "    ('scaler', StandardScaler()),\n",
    "    ('pca', PCA(n_components=5)), \n",
    "    ('classifier', RandomForestClassifier())\n",
    "])))\n",
    "models.append(('Support Vector Machine', Pipeline([\n",
    "    ('scaler', StandardScaler()),\n",
    "    ('pca', PCA(n_components=5)), \n",
    "    ('classifier', SVC())\n",
    "])))\n",
    "models.append(('k-Nearest Neighbors', Pipeline([\n",
    "    ('scaler', StandardScaler()),\n",
    "    ('pca', PCA(n_components=5)), \n",
    "    ('classifier', KNeighborsClassifier())\n",
    "])))\n",
    "models.append(('Neural Network 1', Pipeline([\n",
    "    ('scaler', StandardScaler()),\n",
    "    ('pca', PCA(n_components=5)), \n",
    "    ('classifier', KerasClassifier(model=create_model_1, epochs=150, batch_size=10, verbose=0))\n",
    "])))\n",
    "models.append(('Neural Network 2', Pipeline([\n",
    "    ('scaler', StandardScaler()),\n",
    "    ('pca', PCA(n_components=5)), \n",
    "    ('classifier', KerasClassifier(model=create_model_2, epochs=150, batch_size=10, verbose=0))\n",
    "])))\n",
    "models.append(('Neural Network 3', Pipeline([\n",
    "    ('scaler', StandardScaler()),\n",
    "    ('pca', PCA(n_components=5)), \n",
    "    ('classifier', KerasClassifier(model=create_model_3, epochs=150, batch_size=10, verbose=0))\n",
    "])))\n",
    "\n",
    "# Evaluate each model in turn using cross-validation\n",
    "results = []\n",
    "names = []\n",
    "scoring = 'accuracy'\n",
    "\n",
    "for name, model in models:\n",
    "    cv_results = cross_val_score(model, X_train_pca, y_train, cv=kfold, scoring=scoring)\n",
    "    results.append(cv_results)\n",
    "    names.append(name)\n",
    "    msg = \"%s: %f (%f)\" % (name, cv_results.mean(), cv_results.std())\n",
    "    print(msg)\n",
    "\n",
    "# Plot the results\n",
    "plt.figure(figsize=(20, 6))\n",
    "plt.boxplot(results, tick_labels=names)\n",
    "plt.title('Model Comparison')\n",
    "plt.xlabel('Model')\n",
    "plt.ylabel('Accuracy')\n",
    "plt.show()\n",
    "\n",
    "# Create a DataFrame to display the results\n",
    "results_df = pd.DataFrame({\n",
    "    'Model': names,\n",
    "    'Mean Accuracy': [result.mean() for result in results],\n",
    "    'Standard Deviation': [result.std() for result in results]\n",
    "})\n",
    "\n",
    "# Display the DataFrame\n",
    "print(\"\\nModel Performance:\")\n",
    "print(results_df)"
   ]
  },
  {
   "cell_type": "markdown",
   "metadata": {},
   "source": [
    "When using the first five PCA components, machine learning models tend to have the same or improved performance. This improvement is not observed when all ten PCA components are used, making the additional components unnecessary for enhancing model performance. Although this finding is somewhat expected, it highlights the effectiveness of dimensionality reduction in optimizing models.\n",
    "\n",
    "Both Logistic Regression and Neural Networks are effective for breast cancer classification."
   ]
  },
  {
   "cell_type": "markdown",
   "metadata": {},
   "source": [
    "## Model Selection"
   ]
  },
  {
   "cell_type": "markdown",
   "metadata": {},
   "source": [
    "### Hyperparameter Tuning"
   ]
  },
  {
   "cell_type": "markdown",
   "metadata": {},
   "source": [
    "Hyperparameter tuning is implemented for Logistic Regression and Neural Network 1 models so that the best configuration can be found and used for the final model. \n",
    "\n",
    "In terms of resampling methods, k-fold cross-validation will be used in the Logistic Regression Grid Search. For Neural Network models, the Train-Test Split method will be used due to its computational cost."
   ]
  },
  {
   "cell_type": "code",
   "execution_count": 31,
   "metadata": {},
   "outputs": [
    {
     "name": "stdout",
     "output_type": "stream",
     "text": [
      "Logistic Regression - Best hyperparameters: {'classifier__C': 10, 'classifier__penalty': 'l2', 'classifier__solver': 'lbfgs'}\n",
      "Logistic Regression - Best cross-validation accuracy: 0.9724\n",
      "Neural Network 1 - Best hyperparameters: {'classifier__batch_size': 10, 'classifier__epochs': 100, 'classifier__optimizer': 'adam'}\n",
      "Neural Network 1 - Best cross-validation accuracy:  0.9674\n"
     ]
    }
   ],
   "source": [
    "from sklearn.linear_model import LogisticRegression\n",
    "from sklearn.model_selection import KFold, GridSearchCV\n",
    "from sklearn.pipeline import Pipeline\n",
    "from sklearn.preprocessing import StandardScaler\n",
    "from sklearn.decomposition import PCA\n",
    "from scikeras.wrappers import KerasClassifier\n",
    "from tensorflow.keras.models import Sequential\n",
    "from tensorflow.keras.layers import Dense\n",
    "import warnings\n",
    "\n",
    "# Suppress all UserWarnings to improve readability\n",
    "warnings.filterwarnings('ignore', category=UserWarning)\n",
    "\n",
    "# Define a function to create the Keras model\n",
    "def create_model_1(optimizer='adam'):\n",
    "    model = Sequential()\n",
    "    model.add(Dense(20, input_dim=5, activation='relu'))\n",
    "    model.add(Dense(10, activation='relu'))\n",
    "    model.add(Dense(1, activation='sigmoid'))\n",
    "    model.compile(loss='binary_crossentropy', optimizer=optimizer, metrics=['accuracy'])\n",
    "    return model\n",
    "\n",
    "# Number of folds and random seed\n",
    "num_folds = 10\n",
    "seed = 7\n",
    "\n",
    "# Define the k-fold cross-validator\n",
    "kfold = KFold(n_splits=num_folds, random_state=seed, shuffle=True)\n",
    "\n",
    "# Logistic Regression Pipeline\n",
    "pipeline_lr = Pipeline([\n",
    "    ('scaler', StandardScaler()),\n",
    "    ('pca', PCA(n_components=5)), \n",
    "    ('classifier', LogisticRegression(solver='liblinear'))\n",
    "])\n",
    "\n",
    "# Grid search for Logistic Regression\n",
    "param_grid_lr = [\n",
    "    {'classifier__solver': ['liblinear'], 'classifier__penalty': ['l1', 'l2'], 'classifier__C': [0.01, 0.1, 1.0, 10, 100]},\n",
    "    {'classifier__solver': ['lbfgs', 'sag', 'newton-cg'], 'classifier__penalty': ['l2'], 'classifier__C': [0.01, 0.1, 1.0, 10, 100]},\n",
    "    {'classifier__solver': ['saga'], 'classifier__penalty': ['l1', 'l2', 'elasticnet'], 'classifier__C': [0.01, 0.1, 1.0, 10, 100], 'classifier__l1_ratio': [0.5]}\n",
    "]\n",
    "grid_search_lr = GridSearchCV(pipeline_lr, param_grid_lr, cv=kfold, scoring='accuracy')\n",
    "grid_search_lr.fit(X_train_pca, y_train)\n",
    "best_lr = grid_search_lr.best_estimator_\n",
    "print(f\"Logistic Regression - Best hyperparameters: {grid_search_lr.best_params_}\")\n",
    "print(f\"Logistic Regression - Best cross-validation accuracy: {grid_search_lr.best_score_:.4f}\")\n",
    "\n",
    "# Neural Network 1 Pipeline\n",
    "pipeline_nn1 = Pipeline([\n",
    "    ('scaler', StandardScaler()),\n",
    "    ('pca', PCA(n_components=5)), \n",
    "    ('classifier', KerasClassifier(model=create_model_1, epochs=150, batch_size=10, verbose=0))\n",
    "])\n",
    "\n",
    "# Grid search for Neural Network 1\n",
    "param_grid_nn1 = {\n",
    "    'classifier__optimizer': ['adam'],\n",
    "    'classifier__batch_size': [10, 20],\n",
    "    'classifier__epochs': [100, 150]\n",
    "}\n",
    "\n",
    "# Evaluate the grid search using cross-validation\n",
    "grid_search_nn1 = GridSearchCV(pipeline_nn1, param_grid_nn1, cv=kfold, scoring='accuracy')\n",
    "grid_search_nn1.fit(X_train_pca, y_train)\n",
    "best_nn1 = grid_search_nn1.best_estimator_\n",
    "print(f\"Neural Network 1 - Best hyperparameters: {grid_search_nn1.best_params_}\")\n",
    "print(f\"Neural Network 1 - Best cross-validation accuracy:  {grid_search_nn1.best_score_:.4f}\")\n"
   ]
  },
  {
   "cell_type": "markdown",
   "metadata": {},
   "source": [
    "Both Logistic Regression and Neural Network models have a high accuracy, with the Logistic Regression model performing slightly better. Both will be evaluated to determine the best model using the parameters configuration obtained from the GridSearchCV."
   ]
  },
  {
   "cell_type": "markdown",
   "metadata": {},
   "source": [
    "## Model Evaluation"
   ]
  },
  {
   "cell_type": "markdown",
   "metadata": {},
   "source": [
    "### F1 Score and Confusion Matrix"
   ]
  },
  {
   "cell_type": "markdown",
   "metadata": {},
   "source": [
    "Now that the optimal configuration has been retrieved, it will be used to evaluate the model on the test data. \n",
    "\n",
    "A Confusion Matrix will be plotted and a classification report generated to get a final review of how the model actually performs with the data set in terms of precision and recall.\n",
    "\n",
    "Additionally, the F1 Score will be calculated to retrieve a single metric that includes Precision and Recall.\n",
    "\n",
    "*[8] Scikit-learn developers. confusion_matrix — scikit-learn 1.5.0 documentation. Retrieved from [Scikit-learn](https://scikit-learn.org/stable/modules/generated/sklearn.metrics.confusion_matrix.html)*\n",
    "\n",
    "*[9] Scikit-learn developers. f1_score — scikit-learn 1.5.0 documentation. Retrieved from [Scikit-learn](https://scikit-learn.org/stable/modules/generated/sklearn.metrics.f1_score.html)*"
   ]
  },
  {
   "cell_type": "code",
   "execution_count": 36,
   "metadata": {},
   "outputs": [
    {
     "data": {
      "image/png": "[encoded data removed]",
      "text/plain": [
       "<Figure size 800x600 with 2 Axes>"
      ]
     },
     "metadata": {},
     "output_type": "display_data"
    },
    {
     "name": "stdout",
     "output_type": "stream",
     "text": [
      "Logistic Regression - Test F1 Score: 0.9760\n",
      "Logistic Regression - Classification Report:\n",
      "              precision    recall  f1-score   support\n",
      "\n",
      "           B       0.98      0.99      0.99       108\n",
      "           M       0.98      0.97      0.98        63\n",
      "\n",
      "    accuracy                           0.98       171\n",
      "   macro avg       0.98      0.98      0.98       171\n",
      "weighted avg       0.98      0.98      0.98       171\n",
      "\n"
     ]
    },
    {
     "data": {
      "image/png": "[encoded data removed]",
      "text/plain": [
       "<Figure size 800x600 with 2 Axes>"
      ]
     },
     "metadata": {},
     "output_type": "display_data"
    },
    {
     "name": "stdout",
     "output_type": "stream",
     "text": [
      "Neural Network 1 - Test F1 Score: 0.9457\n",
      "Neural Network 1 - Classification Report:\n",
      "              precision    recall  f1-score   support\n",
      "\n",
      "           B       0.98      0.95      0.97       108\n",
      "           M       0.92      0.97      0.95        63\n",
      "\n",
      "    accuracy                           0.96       171\n",
      "   macro avg       0.95      0.96      0.96       171\n",
      "weighted avg       0.96      0.96      0.96       171\n",
      "\n"
     ]
    }
   ],
   "source": [
    "import matplotlib.pyplot as plt\n",
    "import pandas as pd\n",
    "from sklearn.linear_model import LogisticRegression\n",
    "from sklearn.model_selection import cross_val_score\n",
    "from sklearn.pipeline import Pipeline\n",
    "from sklearn.preprocessing import StandardScaler\n",
    "from sklearn.decomposition import PCA\n",
    "from sklearn.metrics import confusion_matrix, f1_score, classification_report\n",
    "import seaborn as sns\n",
    "\n",
    "################## Logistic Regression ##################\n",
    "\n",
    "# Prepare Logistic Regression model within a pipeline\n",
    "logistic_regression_pipeline = Pipeline([\n",
    "    ('scaler', StandardScaler()),\n",
    "    ('pca', PCA(n_components=5)), \n",
    "    ('classifier', LogisticRegression(solver='lbfgs', C=10, penalty='l2'))\n",
    "])\n",
    "\n",
    "# Fit the model on the training data\n",
    "logistic_regression_pipeline.fit(X_train_pca, y_train)\n",
    "\n",
    "# Make predictions from the test data\n",
    "y_pred_lr = logistic_regression_pipeline.predict(X_test_pca)\n",
    "\n",
    "# Generate Confusion Matrix\n",
    "conf_matrix_lr = confusion_matrix(y_test, y_pred_lr)\n",
    "\n",
    "# Plot Confusion Matrix\n",
    "plt.figure(figsize=(8, 6))\n",
    "sns.heatmap(conf_matrix_lr, annot=True, fmt='d', cmap='Blues', xticklabels=label_encoder.classes_, yticklabels=label_encoder.classes_)\n",
    "plt.xlabel('Predicted')\n",
    "plt.ylabel('Actual')\n",
    "plt.title('Logistic Regression Confusion Matrix')\n",
    "plt.show()\n",
    "\n",
    "# Calculate F1 Score for Neural Network\n",
    "f1_lr = f1_score(y_test, y_pred_lr)\n",
    "print(f\"Logistic Regression - Test F1 Score: {f1_lr:.4f}\")\n",
    "\n",
    "# Print Logistic Regression Classification Report\n",
    "print(\"Logistic Regression - Classification Report:\")\n",
    "print(classification_report(y_test, y_pred_lr, target_names=label_encoder.classes_))\n",
    "\n",
    "################## Neural Network ##################\n",
    "\n",
    "# Define a function to create the Keras model\n",
    "def create_model_1(optimizer='adam'):\n",
    "    model = Sequential()\n",
    "    model.add(Dense(20, input_dim=5, activation='relu'))\n",
    "    model.add(Dense(10, activation='relu'))\n",
    "    model.add(Dense(1, activation='sigmoid'))\n",
    "    model.compile(loss='binary_crossentropy', optimizer=optimizer, metrics=['accuracy'])\n",
    "    return model\n",
    "\n",
    "# Prepare Neural Network model within a pipeline\n",
    "pipeline_nn1 = Pipeline([\n",
    "    ('scaler', StandardScaler()),\n",
    "    ('pca', PCA(n_components=5)), \n",
    "    ('classifier', KerasClassifier(model=create_model_1, epochs=100, batch_size=10, optimizer='adam', verbose=0))\n",
    "])\n",
    "\n",
    "# Fit the Neural Network model on the training data\n",
    "pipeline_nn1.fit(X_train_pca, y_train)\n",
    "\n",
    "# Make predictions from the test data\n",
    "y_pred_nn1 = pipeline_nn1.predict(X_test_pca)\n",
    "\n",
    "# Generate Confusion Matrix for Neural Network 1\n",
    "conf_matrix_nn1 = confusion_matrix(y_test, y_pred_nn1)\n",
    "\n",
    "# Plot Confusion Matrix for Neural Network 1\n",
    "plt.figure(figsize=(8, 6))\n",
    "sns.heatmap(conf_matrix_nn1, annot=True, fmt='d', cmap='Blues', xticklabels=label_encoder.classes_, yticklabels=label_encoder.classes_)\n",
    "plt.xlabel('Predicted')\n",
    "plt.ylabel('Actual')\n",
    "plt.title('Neural Network 1 Confusion Matrix')\n",
    "plt.show()\n",
    "\n",
    "# Calculate F1 Score for Neural Network\n",
    "f1_nn1 = f1_score(y_test, y_pred_nn1)\n",
    "print(f\"Neural Network 1 - Test F1 Score: {f1_nn1:.4f}\")\n",
    "\n",
    "# Print Classification Report for Neural Network 1\n",
    "print(\"Neural Network 1 - Classification Report:\")\n",
    "print(classification_report(y_test, y_pred_nn1, target_names=label_encoder.classes_))"
   ]
  },
  {
   "cell_type": "markdown",
   "metadata": {},
   "source": [
    "### Logistic Regression Model Evaluation"
   ]
  },
  {
   "cell_type": "markdown",
   "metadata": {},
   "source": [
    "According to the Confusion Matrix, both models performed very well with very few errors in false negatives and positives.\n",
    "\n",
    "The logistic regression model has high precision (0.98) and recall (0.98) for both classes (B and M), meaning it is very good at correctly identifying benign and malignant cases with few false positives and false negatives.\n",
    "\n",
    "The model has an F1-Score of 0.99 for B and 0.98 for M, showing a good balance between precision and recall.\n",
    "\n",
    "The overall accuracy of 98% means that the model correctly classifies 98% of the cases."
   ]
  },
  {
   "cell_type": "markdown",
   "metadata": {},
   "source": [
    "### Neural Network Model Evaluation"
   ]
  },
  {
   "cell_type": "markdown",
   "metadata": {},
   "source": [
    "While the precision for Benign cases is high (0.98), it drops to 0.92 for Malignant, indicating the model has more false positives for malignant cases.\n",
    "\n",
    "The recall is slightly lower for B (0.95) but higher for M (0.97), meaning the model misses a few more benign cases but detects most malignant cases accurately.\n",
    "\n",
    "The F1-Score reflects this with 0.97 for Benign and 0.95 for Malignant, showing good but slightly less balanced performance compared to the Logistic Regression model.\n",
    "\n",
    "An accuracy of 96% shows strong overall performance but is slightly less than the Logistic Regression model."
   ]
  },
  {
   "cell_type": "markdown",
   "metadata": {},
   "source": [
    "### Conclusion"
   ]
  },
  {
   "cell_type": "markdown",
   "metadata": {},
   "source": [
    "Both models perform well on the dataset, but the Logistic Regression model is slightly better with higher precision, recall, and F1-Score, especially for malignant cases. \n",
    "\n",
    "The minimal false positives and false negatives further enhance its reliability and accuracy, making it a preferred choice for this classification task. \n",
    "\n",
    "The neural network, while also performing well, shows a slight trade-off between precision and recall for malignant cases, resulting in a slightly lower overall accuracy."
   ]
  }
 ],
 "metadata": {
  "kernelspec": {
   "display_name": "Python 3",
   "language": "python",
   "name": "python3"
  },
  "language_info": {
   "codemirror_mode": {
    "name": "ipython",
    "version": 3
   },
   "file_extension": ".py",
   "mimetype": "text/x-python",
   "name": "python",
   "nbconvert_exporter": "python",
   "pygments_lexer": "ipython3",
   "version": "3.12.3"
  }
 },
 "nbformat": 4,
 "nbformat_minor": 2
}
